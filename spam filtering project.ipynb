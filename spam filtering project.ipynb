{
 "cells": [
  {
   "cell_type": "code",
   "execution_count": 1,
   "id": "79650eec",
   "metadata": {},
   "outputs": [],
   "source": [
    "# import all the necessary things\n",
    "\n",
    "import numpy as np\n",
    "import pandas as pd\n",
    "from sklearn.model_selection import train_test_split\n",
    "from sklearn.feature_extraction.text import TfidfVectorizer\n",
    "from sklearn.linear_model import LogisticRegression\n",
    "from sklearn.metrics import accuracy_score"
   ]
  },
  {
   "cell_type": "code",
   "execution_count": 2,
   "id": "293f225b",
   "metadata": {},
   "outputs": [],
   "source": [
    "# read the csv file that contains the email content and the corresponding label (spam/ham)\n",
    "\n",
    "df = pd.read_csv(\"email_dataset.csv\")"
   ]
  },
  {
   "cell_type": "code",
   "execution_count": 3,
   "id": "2f65e06e",
   "metadata": {},
   "outputs": [
    {
     "name": "stdout",
     "output_type": "stream",
     "text": [
      "     Category                                            Message\n",
      "0         ham  Go until jurong point, crazy.. Available only ...\n",
      "1         ham                      Ok lar... Joking wif u oni...\n",
      "2        spam  Free entry in 2 a wkly comp to win FA Cup fina...\n",
      "3         ham  U dun say so early hor... U c already then say...\n",
      "4         ham  Nah I don't think he goes to usf, he lives aro...\n",
      "...       ...                                                ...\n",
      "5567     spam  This is the 2nd time we have tried 2 contact u...\n",
      "5568      ham               Will ü b going to esplanade fr home?\n",
      "5569      ham  Pity, * was in mood for that. So...any other s...\n",
      "5570      ham  The guy did some bitching but I acted like i'd...\n",
      "5571      ham                         Rofl. Its true to its name\n",
      "\n",
      "[5572 rows x 2 columns]\n"
     ]
    }
   ],
   "source": [
    "# visualize the content of the csv file\n",
    "\n",
    "print(df)"
   ]
  },
  {
   "cell_type": "code",
   "execution_count": 4,
   "id": "9aa7dd67",
   "metadata": {},
   "outputs": [
    {
     "data": {
      "text/html": [
       "<div>\n",
       "<style scoped>\n",
       "    .dataframe tbody tr th:only-of-type {\n",
       "        vertical-align: middle;\n",
       "    }\n",
       "\n",
       "    .dataframe tbody tr th {\n",
       "        vertical-align: top;\n",
       "    }\n",
       "\n",
       "    .dataframe thead th {\n",
       "        text-align: right;\n",
       "    }\n",
       "</style>\n",
       "<table border=\"1\" class=\"dataframe\">\n",
       "  <thead>\n",
       "    <tr style=\"text-align: right;\">\n",
       "      <th></th>\n",
       "      <th>Category</th>\n",
       "      <th>Message</th>\n",
       "    </tr>\n",
       "  </thead>\n",
       "  <tbody>\n",
       "    <tr>\n",
       "      <th>0</th>\n",
       "      <td>ham</td>\n",
       "      <td>Go until jurong point, crazy.. Available only ...</td>\n",
       "    </tr>\n",
       "    <tr>\n",
       "      <th>1</th>\n",
       "      <td>ham</td>\n",
       "      <td>Ok lar... Joking wif u oni...</td>\n",
       "    </tr>\n",
       "    <tr>\n",
       "      <th>2</th>\n",
       "      <td>spam</td>\n",
       "      <td>Free entry in 2 a wkly comp to win FA Cup fina...</td>\n",
       "    </tr>\n",
       "    <tr>\n",
       "      <th>3</th>\n",
       "      <td>ham</td>\n",
       "      <td>U dun say so early hor... U c already then say...</td>\n",
       "    </tr>\n",
       "    <tr>\n",
       "      <th>4</th>\n",
       "      <td>ham</td>\n",
       "      <td>Nah I don't think he goes to usf, he lives aro...</td>\n",
       "    </tr>\n",
       "    <tr>\n",
       "      <th>5</th>\n",
       "      <td>spam</td>\n",
       "      <td>FreeMsg Hey there darling it's been 3 week's n...</td>\n",
       "    </tr>\n",
       "    <tr>\n",
       "      <th>6</th>\n",
       "      <td>ham</td>\n",
       "      <td>Even my brother is not like to speak with me. ...</td>\n",
       "    </tr>\n",
       "    <tr>\n",
       "      <th>7</th>\n",
       "      <td>ham</td>\n",
       "      <td>As per your request 'Melle Melle (Oru Minnamin...</td>\n",
       "    </tr>\n",
       "    <tr>\n",
       "      <th>8</th>\n",
       "      <td>spam</td>\n",
       "      <td>WINNER!! As a valued network customer you have...</td>\n",
       "    </tr>\n",
       "    <tr>\n",
       "      <th>9</th>\n",
       "      <td>spam</td>\n",
       "      <td>Had your mobile 11 months or more? U R entitle...</td>\n",
       "    </tr>\n",
       "    <tr>\n",
       "      <th>10</th>\n",
       "      <td>ham</td>\n",
       "      <td>I'm gonna be home soon and i don't want to tal...</td>\n",
       "    </tr>\n",
       "    <tr>\n",
       "      <th>11</th>\n",
       "      <td>spam</td>\n",
       "      <td>SIX chances to win CASH! From 100 to 20,000 po...</td>\n",
       "    </tr>\n",
       "    <tr>\n",
       "      <th>12</th>\n",
       "      <td>spam</td>\n",
       "      <td>URGENT! You have won a 1 week FREE membership ...</td>\n",
       "    </tr>\n",
       "    <tr>\n",
       "      <th>13</th>\n",
       "      <td>ham</td>\n",
       "      <td>I've been searching for the right words to tha...</td>\n",
       "    </tr>\n",
       "    <tr>\n",
       "      <th>14</th>\n",
       "      <td>ham</td>\n",
       "      <td>I HAVE A DATE ON SUNDAY WITH WILL!!</td>\n",
       "    </tr>\n",
       "    <tr>\n",
       "      <th>15</th>\n",
       "      <td>spam</td>\n",
       "      <td>XXXMobileMovieClub: To use your credit, click ...</td>\n",
       "    </tr>\n",
       "    <tr>\n",
       "      <th>16</th>\n",
       "      <td>ham</td>\n",
       "      <td>Oh k...i'm watching here:)</td>\n",
       "    </tr>\n",
       "    <tr>\n",
       "      <th>17</th>\n",
       "      <td>ham</td>\n",
       "      <td>Eh u remember how 2 spell his name... Yes i di...</td>\n",
       "    </tr>\n",
       "    <tr>\n",
       "      <th>18</th>\n",
       "      <td>ham</td>\n",
       "      <td>Fine if thats the way u feel. Thats the way ...</td>\n",
       "    </tr>\n",
       "    <tr>\n",
       "      <th>19</th>\n",
       "      <td>spam</td>\n",
       "      <td>England v Macedonia - dont miss the goals/team...</td>\n",
       "    </tr>\n",
       "  </tbody>\n",
       "</table>\n",
       "</div>"
      ],
      "text/plain": [
       "   Category                                            Message\n",
       "0       ham  Go until jurong point, crazy.. Available only ...\n",
       "1       ham                      Ok lar... Joking wif u oni...\n",
       "2      spam  Free entry in 2 a wkly comp to win FA Cup fina...\n",
       "3       ham  U dun say so early hor... U c already then say...\n",
       "4       ham  Nah I don't think he goes to usf, he lives aro...\n",
       "5      spam  FreeMsg Hey there darling it's been 3 week's n...\n",
       "6       ham  Even my brother is not like to speak with me. ...\n",
       "7       ham  As per your request 'Melle Melle (Oru Minnamin...\n",
       "8      spam  WINNER!! As a valued network customer you have...\n",
       "9      spam  Had your mobile 11 months or more? U R entitle...\n",
       "10      ham  I'm gonna be home soon and i don't want to tal...\n",
       "11     spam  SIX chances to win CASH! From 100 to 20,000 po...\n",
       "12     spam  URGENT! You have won a 1 week FREE membership ...\n",
       "13      ham  I've been searching for the right words to tha...\n",
       "14      ham                I HAVE A DATE ON SUNDAY WITH WILL!!\n",
       "15     spam  XXXMobileMovieClub: To use your credit, click ...\n",
       "16      ham                         Oh k...i'm watching here:)\n",
       "17      ham  Eh u remember how 2 spell his name... Yes i di...\n",
       "18      ham  Fine if thats the way u feel. Thats the way ...\n",
       "19     spam  England v Macedonia - dont miss the goals/team..."
      ]
     },
     "execution_count": 4,
     "metadata": {},
     "output_type": "execute_result"
    }
   ],
   "source": [
    "# show the first 20 rows of content\n",
    "\n",
    "data = df.where((pd.notnull(df)), \"\")\n",
    "data.head(20)"
   ]
  },
  {
   "cell_type": "code",
   "execution_count": 5,
   "id": "d5395cd0",
   "metadata": {},
   "outputs": [
    {
     "name": "stdout",
     "output_type": "stream",
     "text": [
      "<class 'pandas.core.frame.DataFrame'>\n",
      "RangeIndex: 5572 entries, 0 to 5571\n",
      "Data columns (total 2 columns):\n",
      " #   Column    Non-Null Count  Dtype \n",
      "---  ------    --------------  ----- \n",
      " 0   Category  5572 non-null   object\n",
      " 1   Message   5572 non-null   object\n",
      "dtypes: object(2)\n",
      "memory usage: 87.2+ KB\n",
      "The shape of the csv data is:  (5572, 2)\n"
     ]
    }
   ],
   "source": [
    "# let's see the information of the data\n",
    "\n",
    "data.info()\n",
    "print(\"The shape of the csv data is: \", data.shape)"
   ]
  },
  {
   "cell_type": "code",
   "execution_count": 6,
   "id": "7e3b820d",
   "metadata": {},
   "outputs": [],
   "source": [
    "# if the email is a spam, its label is denoted as 1;\n",
    "# otherwise, if it is a ham, its label is denoted as 0\n",
    "\n",
    "data.loc[data[\"Category\"] == \"spam\", \"Category\",] = 1\n",
    "data.loc[data[\"Category\"] == \"ham\", \"Category\",] = 0"
   ]
  },
  {
   "cell_type": "code",
   "execution_count": 7,
   "id": "e1f1a556",
   "metadata": {},
   "outputs": [
    {
     "name": "stdout",
     "output_type": "stream",
     "text": [
      "\n",
      "The emails are as follows: \n",
      "\n",
      "0       Go until jurong point, crazy.. Available only ...\n",
      "1                           Ok lar... Joking wif u oni...\n",
      "2       Free entry in 2 a wkly comp to win FA Cup fina...\n",
      "3       U dun say so early hor... U c already then say...\n",
      "4       Nah I don't think he goes to usf, he lives aro...\n",
      "                              ...                        \n",
      "5567    This is the 2nd time we have tried 2 contact u...\n",
      "5568                 Will ü b going to esplanade fr home?\n",
      "5569    Pity, * was in mood for that. So...any other s...\n",
      "5570    The guy did some bitching but I acted like i'd...\n",
      "5571                           Rofl. Its true to its name\n",
      "Name: Message, Length: 5572, dtype: object\n",
      "\n",
      "The corresponding labels are as follows: \n",
      "\n",
      "0       0\n",
      "1       0\n",
      "2       1\n",
      "3       0\n",
      "4       0\n",
      "       ..\n",
      "5567    1\n",
      "5568    0\n",
      "5569    0\n",
      "5570    0\n",
      "5571    0\n",
      "Name: Category, Length: 5572, dtype: object\n"
     ]
    }
   ],
   "source": [
    "# visualize X (Message) and Y (Category)\n",
    "\n",
    "X = data[\"Message\"]\n",
    "Y = data[\"Category\"]\n",
    "\n",
    "print(\"\\nThe emails are as follows: \\n\")\n",
    "print(X)\n",
    "print(\"\\nThe corresponding labels are as follows: \\n\")\n",
    "print(Y)"
   ]
  },
  {
   "cell_type": "code",
   "execution_count": 8,
   "id": "c4418514",
   "metadata": {},
   "outputs": [],
   "source": [
    "# split the email data into training dataset and test dataset\n",
    "# https://scikit-learn.org/stable/modules/generated/sklearn.model_selection.train_test_split.html\n",
    "\n",
    "X_train, X_test, Y_train, Y_test = train_test_split(X, Y, test_size = 0.15, random_state = 7)"
   ]
  },
  {
   "cell_type": "code",
   "execution_count": 9,
   "id": "e38f30df",
   "metadata": {},
   "outputs": [
    {
     "name": "stdout",
     "output_type": "stream",
     "text": [
      "The shape of X is:  (5572,)\n",
      "The shape of X_train is:  (4736,)\n",
      "The shape of X_test is:  (836,)\n",
      "The shape of Y is:  (5572,)\n",
      "The shape of Y_train is:  (4736,)\n",
      "The shape of Y_test is:  (836,)\n"
     ]
    }
   ],
   "source": [
    "# visualize the shape of X, X_train, X_test, Y, Y_train, Y_test\n",
    "\n",
    "print(\"The shape of X is: \", X.shape)\n",
    "print(\"The shape of X_train is: \", X_train.shape)\n",
    "print(\"The shape of X_test is: \", X_test.shape)\n",
    "\n",
    "print(\"The shape of Y is: \", Y.shape)\n",
    "print(\"The shape of Y_train is: \", Y_train.shape)\n",
    "print(\"The shape of Y_test is: \", Y_test.shape)"
   ]
  },
  {
   "cell_type": "code",
   "execution_count": 10,
   "id": "99f3002b",
   "metadata": {},
   "outputs": [],
   "source": [
    "# Convert a collection of raw documents to a matrix of TF-IDF features\n",
    "# https://scikit-learn.org/stable/modules/generated/sklearn.feature_extraction.text.TfidfVectorizer.html\n",
    "\n",
    "feature_extraction = TfidfVectorizer(min_df = 1, stop_words = \"english\", lowercase = True)\n",
    "\n",
    "# do feature extraction on the train dataset and test dataset\n",
    "X_train_features = feature_extraction.fit_transform(X_train)\n",
    "X_test_features = feature_extraction.transform(X_test)\n",
    "\n",
    "# convert the tarin and test label to int type\n",
    "Y_train = Y_train.astype(\"int\")\n",
    "Y_test = Y_test.astype(\"int\")"
   ]
  },
  {
   "cell_type": "code",
   "execution_count": 11,
   "id": "b0513364",
   "metadata": {},
   "outputs": [
    {
     "name": "stdout",
     "output_type": "stream",
     "text": [
      "\n",
      "X_train_features: \n",
      "   (0, 2752)\t0.49526721191774997\n",
      "  (0, 6570)\t0.5358819846922485\n",
      "  (0, 2703)\t0.5273337426072223\n",
      "  (0, 5601)\t0.4352700439834738\n",
      "  (1, 3304)\t0.2581874186221458\n",
      "  (1, 2324)\t0.1771628935906118\n",
      "  (1, 1103)\t0.2520827263267748\n",
      "  (1, 6255)\t0.3204843840942565\n",
      "  (1, 1472)\t0.24449491766628434\n",
      "  (1, 4521)\t0.19619371803401456\n",
      "  (1, 4244)\t0.274704405369881\n",
      "  (1, 5246)\t0.3204843840942565\n",
      "  (1, 6603)\t0.2870001805653777\n",
      "  (1, 1567)\t0.2803375658482081\n",
      "  (1, 6061)\t0.23123318643869842\n",
      "  (1, 2188)\t0.2803375658482081\n",
      "  (1, 6676)\t0.3056673879908655\n",
      "  (1, 3498)\t0.2698247398089417\n",
      "  (2, 2001)\t0.24318640775823405\n",
      "  (2, 2299)\t0.2792114155427686\n",
      "  (2, 3607)\t0.2830768351198316\n",
      "  (2, 4334)\t0.2792114155427686\n",
      "  (2, 7197)\t0.17087310629915822\n",
      "  (2, 2709)\t0.35880907701372206\n",
      "  (2, 805)\t0.37158915191079767\n",
      "  :\t:\n",
      "  (4733, 4261)\t0.3487074836115899\n",
      "  (4733, 4044)\t0.4012572234549885\n",
      "  (4734, 579)\t0.3497859982618609\n",
      "  (4734, 5173)\t0.3497859982618609\n",
      "  (4734, 5089)\t0.3497859982618609\n",
      "  (4734, 5964)\t0.33361429682962385\n",
      "  (4734, 3450)\t0.29449458586431326\n",
      "  (4734, 2535)\t0.3132403625347001\n",
      "  (4734, 4342)\t0.2668488796655394\n",
      "  (4734, 7054)\t0.2474847290078588\n",
      "  (4734, 1026)\t0.2445289826922009\n",
      "  (4734, 5899)\t0.3132403625347001\n",
      "  (4734, 4115)\t0.21548368295133707\n",
      "  (4735, 1990)\t0.3840717231341105\n",
      "  (4735, 4456)\t0.3287893619045084\n",
      "  (4735, 7222)\t0.33362716061973285\n",
      "  (4735, 4931)\t0.29472210710133645\n",
      "  (4735, 4568)\t0.3390353594598393\n",
      "  (4735, 4068)\t0.35224474773789416\n",
      "  (4735, 3014)\t0.25871801517358534\n",
      "  (4735, 6946)\t0.20962403883631886\n",
      "  (4735, 3249)\t0.22639463905540194\n",
      "  (4735, 2039)\t0.2442775445869588\n",
      "  (4735, 3510)\t0.22306243816052876\n",
      "  (4735, 3974)\t0.18877705173775913\n",
      "\n",
      "X_test_features: \n",
      "   (0, 5218)\t0.692493680614338\n",
      "  (0, 4351)\t0.7214239407652112\n",
      "  (1, 7382)\t0.3869193779719141\n",
      "  (1, 6648)\t0.35034986417605274\n",
      "  (1, 5834)\t0.4103300050953849\n",
      "  (1, 5797)\t0.3381552438777383\n",
      "  (1, 4857)\t0.32949613561857505\n",
      "  (1, 4341)\t0.3271088604433966\n",
      "  (1, 2441)\t0.4788118373744588\n",
      "  (2, 6946)\t0.52659892441929\n",
      "  (2, 4439)\t0.6719662335431259\n",
      "  (2, 3183)\t0.5207254111125289\n",
      "  (3, 7430)\t0.493306356798967\n",
      "  (3, 6244)\t0.5378789143217282\n",
      "  (3, 5895)\t0.3344147893219838\n",
      "  (3, 4041)\t0.3569636418876155\n",
      "  (3, 2434)\t0.30229501989056085\n",
      "  (3, 2325)\t0.3697249516495172\n",
      "  (4, 6505)\t0.49769987791532366\n",
      "  (4, 3975)\t0.867349313438981\n",
      "  (5, 7290)\t0.5294255473225604\n",
      "  (5, 7225)\t0.4598899931279184\n",
      "  (5, 4913)\t0.31207479872437055\n",
      "  (5, 2852)\t0.45322130580112524\n",
      "  (5, 2336)\t0.45322130580112524\n",
      "  :\t:\n",
      "  (833, 3890)\t0.13028854340795684\n",
      "  (833, 2783)\t0.27623617210065016\n",
      "  (833, 2107)\t0.26440155281113226\n",
      "  (833, 2072)\t0.26440155281113226\n",
      "  (833, 1728)\t0.21206194345339366\n",
      "  (833, 1451)\t0.209862936991081\n",
      "  (833, 575)\t0.26440155281113226\n",
      "  (833, 357)\t0.2555621590753109\n",
      "  (833, 291)\t0.26440155281113226\n",
      "  (833, 87)\t0.2698234402966953\n",
      "  (833, 69)\t0.2597049002409846\n",
      "  (834, 6029)\t0.39254345355493964\n",
      "  (834, 6027)\t0.2402082801662611\n",
      "  (834, 5331)\t0.4807730141889235\n",
      "  (834, 4471)\t0.3518703679778668\n",
      "  (834, 4469)\t0.277194591376436\n",
      "  (834, 4101)\t0.3667778037064078\n",
      "  (834, 3632)\t0.28432411794951123\n",
      "  (834, 2991)\t0.2297050109077923\n",
      "  (834, 1921)\t0.29713090938773745\n",
      "  (835, 6973)\t0.44608131524657835\n",
      "  (835, 6327)\t0.4391226874754474\n",
      "  (835, 4044)\t0.3740341209491323\n",
      "  (835, 3193)\t0.44080518221031245\n",
      "  (835, 1169)\t0.5234233403609037\n",
      "\n",
      "Y_train: \n",
      " 1564    0\n",
      "3668    0\n",
      "1260    0\n",
      "4296    1\n",
      "4303    0\n",
      "       ..\n",
      "4307    0\n",
      "2550    0\n",
      "537     0\n",
      "1220    0\n",
      "4271    0\n",
      "Name: Category, Length: 4736, dtype: int32\n",
      "\n",
      "Y_test: \n",
      " 83      0\n",
      "2235    0\n",
      "2746    0\n",
      "246     0\n",
      "3120    0\n",
      "       ..\n",
      "285     0\n",
      "95      1\n",
      "2850    1\n",
      "4298    1\n",
      "4843    0\n",
      "Name: Category, Length: 836, dtype: int32\n"
     ]
    }
   ],
   "source": [
    "# visualize X_train_features, X_test_features, Y_train, Y_test\n",
    "\n",
    "print(\"\\nX_train_features: \\n\", X_train_features)\n",
    "print(\"\\nX_test_features: \\n\", X_test_features)\n",
    "print(\"\\nY_train: \\n\", Y_train)\n",
    "print(\"\\nY_test: \\n\", Y_test)"
   ]
  },
  {
   "cell_type": "code",
   "execution_count": 12,
   "id": "01e544d4",
   "metadata": {},
   "outputs": [
    {
     "data": {
      "text/html": [
       "<style>#sk-container-id-1 {color: black;}#sk-container-id-1 pre{padding: 0;}#sk-container-id-1 div.sk-toggleable {background-color: white;}#sk-container-id-1 label.sk-toggleable__label {cursor: pointer;display: block;width: 100%;margin-bottom: 0;padding: 0.3em;box-sizing: border-box;text-align: center;}#sk-container-id-1 label.sk-toggleable__label-arrow:before {content: \"▸\";float: left;margin-right: 0.25em;color: #696969;}#sk-container-id-1 label.sk-toggleable__label-arrow:hover:before {color: black;}#sk-container-id-1 div.sk-estimator:hover label.sk-toggleable__label-arrow:before {color: black;}#sk-container-id-1 div.sk-toggleable__content {max-height: 0;max-width: 0;overflow: hidden;text-align: left;background-color: #f0f8ff;}#sk-container-id-1 div.sk-toggleable__content pre {margin: 0.2em;color: black;border-radius: 0.25em;background-color: #f0f8ff;}#sk-container-id-1 input.sk-toggleable__control:checked~div.sk-toggleable__content {max-height: 200px;max-width: 100%;overflow: auto;}#sk-container-id-1 input.sk-toggleable__control:checked~label.sk-toggleable__label-arrow:before {content: \"▾\";}#sk-container-id-1 div.sk-estimator input.sk-toggleable__control:checked~label.sk-toggleable__label {background-color: #d4ebff;}#sk-container-id-1 div.sk-label input.sk-toggleable__control:checked~label.sk-toggleable__label {background-color: #d4ebff;}#sk-container-id-1 input.sk-hidden--visually {border: 0;clip: rect(1px 1px 1px 1px);clip: rect(1px, 1px, 1px, 1px);height: 1px;margin: -1px;overflow: hidden;padding: 0;position: absolute;width: 1px;}#sk-container-id-1 div.sk-estimator {font-family: monospace;background-color: #f0f8ff;border: 1px dotted black;border-radius: 0.25em;box-sizing: border-box;margin-bottom: 0.5em;}#sk-container-id-1 div.sk-estimator:hover {background-color: #d4ebff;}#sk-container-id-1 div.sk-parallel-item::after {content: \"\";width: 100%;border-bottom: 1px solid gray;flex-grow: 1;}#sk-container-id-1 div.sk-label:hover label.sk-toggleable__label {background-color: #d4ebff;}#sk-container-id-1 div.sk-serial::before {content: \"\";position: absolute;border-left: 1px solid gray;box-sizing: border-box;top: 0;bottom: 0;left: 50%;z-index: 0;}#sk-container-id-1 div.sk-serial {display: flex;flex-direction: column;align-items: center;background-color: white;padding-right: 0.2em;padding-left: 0.2em;position: relative;}#sk-container-id-1 div.sk-item {position: relative;z-index: 1;}#sk-container-id-1 div.sk-parallel {display: flex;align-items: stretch;justify-content: center;background-color: white;position: relative;}#sk-container-id-1 div.sk-item::before, #sk-container-id-1 div.sk-parallel-item::before {content: \"\";position: absolute;border-left: 1px solid gray;box-sizing: border-box;top: 0;bottom: 0;left: 50%;z-index: -1;}#sk-container-id-1 div.sk-parallel-item {display: flex;flex-direction: column;z-index: 1;position: relative;background-color: white;}#sk-container-id-1 div.sk-parallel-item:first-child::after {align-self: flex-end;width: 50%;}#sk-container-id-1 div.sk-parallel-item:last-child::after {align-self: flex-start;width: 50%;}#sk-container-id-1 div.sk-parallel-item:only-child::after {width: 0;}#sk-container-id-1 div.sk-dashed-wrapped {border: 1px dashed gray;margin: 0 0.4em 0.5em 0.4em;box-sizing: border-box;padding-bottom: 0.4em;background-color: white;}#sk-container-id-1 div.sk-label label {font-family: monospace;font-weight: bold;display: inline-block;line-height: 1.2em;}#sk-container-id-1 div.sk-label-container {text-align: center;}#sk-container-id-1 div.sk-container {/* jupyter's `normalize.less` sets `[hidden] { display: none; }` but bootstrap.min.css set `[hidden] { display: none !important; }` so we also need the `!important` here to be able to override the default hidden behavior on the sphinx rendered scikit-learn.org. See: https://github.com/scikit-learn/scikit-learn/issues/21755 */display: inline-block !important;position: relative;}#sk-container-id-1 div.sk-text-repr-fallback {display: none;}</style><div id=\"sk-container-id-1\" class=\"sk-top-container\"><div class=\"sk-text-repr-fallback\"><pre>LogisticRegression()</pre><b>In a Jupyter environment, please rerun this cell to show the HTML representation or trust the notebook. <br />On GitHub, the HTML representation is unable to render, please try loading this page with nbviewer.org.</b></div><div class=\"sk-container\" hidden><div class=\"sk-item\"><div class=\"sk-estimator sk-toggleable\"><input class=\"sk-toggleable__control sk-hidden--visually\" id=\"sk-estimator-id-1\" type=\"checkbox\" checked><label for=\"sk-estimator-id-1\" class=\"sk-toggleable__label sk-toggleable__label-arrow\">LogisticRegression</label><div class=\"sk-toggleable__content\"><pre>LogisticRegression()</pre></div></div></div></div></div>"
      ],
      "text/plain": [
       "LogisticRegression()"
      ]
     },
     "execution_count": 12,
     "metadata": {},
     "output_type": "execute_result"
    }
   ],
   "source": [
    "# the model used is logistic regression\n",
    "# and fit the model using X_train_features (dataset) and Y_train (label)\n",
    "\n",
    "model = LogisticRegression()\n",
    "\n",
    "model.fit(X_train_features, Y_train)"
   ]
  },
  {
   "cell_type": "code",
   "execution_count": 13,
   "id": "53ff5b07",
   "metadata": {},
   "outputs": [
    {
     "name": "stdout",
     "output_type": "stream",
     "text": [
      "Accuracy on training data:  0.9689611486486487\n"
     ]
    }
   ],
   "source": [
    "# print the accuracy of training dataset\n",
    "\n",
    "pred_train_data = model.predict(X_train_features)\n",
    "accu_train_data = accuracy_score(Y_train, pred_train_data)\n",
    "\n",
    "print(\"Accuracy on training data: \", accu_train_data)"
   ]
  },
  {
   "cell_type": "code",
   "execution_count": 14,
   "id": "96130abb",
   "metadata": {},
   "outputs": [
    {
     "name": "stdout",
     "output_type": "stream",
     "text": [
      "Accuracy on test data:  0.9545454545454546\n"
     ]
    }
   ],
   "source": [
    "# print the accuracy of test dataset\n",
    "\n",
    "pred_test_data = model.predict(X_test_features)\n",
    "accu_test_data = accuracy_score(Y_test, pred_test_data)\n",
    "\n",
    "print(\"Accuracy on test data: \", accu_test_data)"
   ]
  },
  {
   "cell_type": "code",
   "execution_count": 15,
   "id": "3f698acd",
   "metadata": {},
   "outputs": [
    {
     "name": "stdout",
     "output_type": "stream",
     "text": [
      "Please copy and paste your email here (enter 'exit' to quite the program): exit\n",
      "Program terminates.\n"
     ]
    }
   ],
   "source": [
    "# The demo part: copy and paste the email in the textbox\n",
    "# and it will help to classify whether the email is spam or ham\n",
    "\n",
    "while True:\n",
    "    email_input = input(\"Please copy and paste your email here (enter 'exit' to quite the program): \")\n",
    "    \n",
    "    if email_input == \"exit\":\n",
    "        print(\"Program terminates.\")\n",
    "        break\n",
    "    \n",
    "    else:\n",
    "        email_input_list = [email_input]\n",
    "        input_email_features = feature_extraction.transform(email_input_list)\n",
    "        prediction = model.predict(input_email_features)\n",
    "        \n",
    "        if (prediction[0] == 0):\n",
    "            print(\"This email is a ham.\")\n",
    "        else:\n",
    "            print(\"This email is a spam.\")"
   ]
  }
 ],
 "metadata": {
  "kernelspec": {
   "display_name": "Python 3 (ipykernel)",
   "language": "python",
   "name": "python3"
  },
  "language_info": {
   "codemirror_mode": {
    "name": "ipython",
    "version": 3
   },
   "file_extension": ".py",
   "mimetype": "text/x-python",
   "name": "python",
   "nbconvert_exporter": "python",
   "pygments_lexer": "ipython3",
   "version": "3.11.5"
  }
 },
 "nbformat": 4,
 "nbformat_minor": 5
}
